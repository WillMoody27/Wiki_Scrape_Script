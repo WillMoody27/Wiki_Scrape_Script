{
 "cells": [
  {
   "cell_type": "code",
   "execution_count": 1,
   "id": "7e816d30-9b3b-44ef-addc-dbc77bd207f0",
   "metadata": {},
   "outputs": [],
   "source": [
    "from bs4 import BeautifulSoup\n",
    "import requests"
   ]
  },
  {
   "cell_type": "code",
   "execution_count": 3,
   "id": "23bac232-5504-4b1a-9496-7e632bda9be4",
   "metadata": {},
   "outputs": [],
   "source": [
    "url = 'https://en.wikipedia.org/wiki/List_of_largest_companies_in_the_United_States_by_revenue'"
   ]
  },
  {
   "cell_type": "code",
   "execution_count": 7,
   "id": "1dea5ffa-5b5d-48d0-aab0-a64c953fc844",
   "metadata": {},
   "outputs": [],
   "source": [
    "page = requests.get(url)\n",
    "\n",
    "soup = BeautifulSoup(page.text, features=\"html.parser\")"
   ]
  },
  {
   "cell_type": "code",
   "execution_count": 14,
   "id": "87a345d8-13e1-4aff-88b1-61350bd0c73c",
   "metadata": {},
   "outputs": [],
   "source": [
    "# print(soup)"
   ]
  },
  {
   "cell_type": "code",
   "execution_count": 40,
   "id": "6a9989cb-9d9c-4f32-84d0-ca52d6860344",
   "metadata": {},
   "outputs": [],
   "source": [
    "# soup.find_all('table')[1]"
   ]
  },
  {
   "cell_type": "code",
   "execution_count": 41,
   "id": "2dd00ef9-632e-4a34-a170-408a89b415f5",
   "metadata": {},
   "outputs": [],
   "source": [
    "# soup.find('table', class_ = 'wikitable sortable')\n",
    "# <table class=\"wikitable sortable jquery-tablesorter\">\n",
    "# <caption>"
   ]
  },
  {
   "cell_type": "code",
   "execution_count": 37,
   "id": "941e489c-2260-499d-bbdf-ea8995efbe2c",
   "metadata": {},
   "outputs": [],
   "source": [
    "table = soup.find_all('table')[1]"
   ]
  },
  {
   "cell_type": "code",
   "execution_count": 33,
   "id": "37dc4554-d7bc-49f7-9f19-613daf61bb8b",
   "metadata": {},
   "outputs": [],
   "source": [
    "world_titles = table.find_all('th')"
   ]
  },
  {
   "cell_type": "code",
   "execution_count": 34,
   "id": "631ce5fd-6691-4496-b82c-cec0cc96dacd",
   "metadata": {},
   "outputs": [],
   "source": [
    "world_table_titles = [title.text.strip() for title in world_titles] # List Comprehension"
   ]
  },
  {
   "cell_type": "code",
   "execution_count": 35,
   "id": "da532da8-fdf9-4e5f-a578-033cf1afd501",
   "metadata": {},
   "outputs": [
    {
     "name": "stdout",
     "output_type": "stream",
     "text": [
      "['Rank', 'Name', 'Industry', 'Revenue (USD millions)', 'Revenue growth', 'Employees', 'Headquarters']\n"
     ]
    }
   ],
   "source": [
    "print(world_table_titles)"
   ]
  },
  {
   "cell_type": "code",
   "execution_count": null,
   "id": "0936898f-d8a4-444a-8ea1-1b326ed9f94b",
   "metadata": {},
   "outputs": [],
   "source": []
  },
  {
   "cell_type": "code",
   "execution_count": 45,
   "id": "e068aa71-4916-492e-b24f-4034633cd63c",
   "metadata": {},
   "outputs": [],
   "source": [
    "# Import For Pandas DataFrame\n",
    "import pandas as pd # import to use pandas"
   ]
  },
  {
   "cell_type": "code",
   "execution_count": 57,
   "id": "3404816b-50fb-424a-b6b4-0a481d6d7a74",
   "metadata": {},
   "outputs": [
    {
     "name": "stdout",
     "output_type": "stream",
     "text": [
      "Empty DataFrame\n",
      "Columns: [Rank, Name, Industry, Revenue (USD millions), Revenue growth, Employees, Headquarters]\n",
      "Index: []\n"
     ]
    }
   ],
   "source": [
    "df = pd.DataFrame(columns = world_table_titles)"
   ]
  },
  {
   "cell_type": "code",
   "execution_count": 49,
   "id": "4aa8cbea-b965-4abf-bdf1-e75c1624adaa",
   "metadata": {},
   "outputs": [],
   "source": [
    "column_data = table.find_all('tr')"
   ]
  },
  {
   "cell_type": "code",
   "execution_count": 55,
   "id": "22aa480e-0801-4f53-a99d-e93a677ca40e",
   "metadata": {},
   "outputs": [
    {
     "name": "stdout",
     "output_type": "stream",
     "text": [
      "[]\n"
     ]
    },
    {
     "ename": "NameError",
     "evalue": "name 'df' is not defined",
     "output_type": "error",
     "traceback": [
      "\u001b[0;31m---------------------------------------------------------------------------\u001b[0m",
      "\u001b[0;31mNameError\u001b[0m                                 Traceback (most recent call last)",
      "Cell \u001b[0;32mIn[55], line 6\u001b[0m\n\u001b[1;32m      4\u001b[0m \u001b[38;5;28mprint\u001b[39m(individ_row_data)\n\u001b[1;32m      5\u001b[0m \u001b[38;5;66;03m# While iterating through each table row in the table append to the DataFrame\u001b[39;00m\n\u001b[0;32m----> 6\u001b[0m lenght \u001b[38;5;241m=\u001b[39m \u001b[38;5;28mlen\u001b[39m(df)\n\u001b[1;32m      7\u001b[0m \u001b[38;5;66;03m# Use lenght to input information into the next position of the DataFrame\u001b[39;00m\n\u001b[1;32m      8\u001b[0m df\u001b[38;5;241m.\u001b[39mloc[length] \u001b[38;5;241m=\u001b[39m individ_row_data\n",
      "\u001b[0;31mNameError\u001b[0m: name 'df' is not defined"
     ]
    }
   ],
   "source": [
    "for row in column_data:\n",
    "    row_data = row.find_all('td')\n",
    "    individ_row_data = [data.text.strip() for data in row_data] # List Comprehension\n",
    "    print(individ_row_data)\n",
    "    # While iterating through each table row in the table append to the DataFrame\n",
    "    lenght = len(df)\n",
    "    # Use lenght to input information into the next position of the DataFrame\n",
    "    df.loc[length] = individ_row_data"
   ]
  },
  {
   "cell_type": "code",
   "execution_count": null,
   "id": "1065e7f8-972b-490e-ac86-2389dea9e9f8",
   "metadata": {},
   "outputs": [],
   "source": []
  }
 ],
 "metadata": {
  "kernelspec": {
   "display_name": "Python 3 (ipykernel)",
   "language": "python",
   "name": "python3"
  },
  "language_info": {
   "codemirror_mode": {
    "name": "ipython",
    "version": 3
   },
   "file_extension": ".py",
   "mimetype": "text/x-python",
   "name": "python",
   "nbconvert_exporter": "python",
   "pygments_lexer": "ipython3",
   "version": "3.11.7"
  }
 },
 "nbformat": 4,
 "nbformat_minor": 5
}
